{
 "cells": [
  {
   "cell_type": "code",
   "execution_count": 3,
   "metadata": {},
   "outputs": [
    {
     "name": "stdout",
     "output_type": "stream",
     "text": [
      "라즈베리파이의 ID를 입력: 1\n",
      "비밀번호를 입력: 1\n",
      "냉장고 이름을 입력: 1\n",
      "냉장고의 위치를 입력: 1\n",
      "카메라의 ID를 입력: 1\n",
      "(('1', '1', '1', '1'), ('applemango', 'applemango!1', '졸프용 냉장고', '한성대'), ('test1', 'test1!', '테스트용', '집'), ('test2', 'test2', '테스트', '집'), ('test3', 'test3', 'home', 'home'))\n",
      "(('1', '1'), ('camera1', 'applemango'), ('camera2', 'test2'), ('camera3', 'test3'))\n",
      "1 1\n"
     ]
    }
   ],
   "source": [
    "import pymysql\n",
    "\n",
    "conn = pymysql.connect(host='13.125.102.154', user='hello', password='Csedbadmin!1', db='pytest')\n",
    "curs = conn.cursor()\n",
    "\n",
    "raspberryPiID = input(\"라즈베리파이의 ID를 입력: \")\n",
    "raspberryPiPW = input('비밀번호를 입력: ')\n",
    "name = input('냉장고 이름을 입력: ')\n",
    "location = input('냉장고의 위치를 입력: ')\n",
    "cameraID = input('카메라의 ID를 입력: ')\n",
    "\n",
    "sql = \"insert into refrigerator values(%s, %s, %s, %s)\"\n",
    "curs.execute(sql, (raspberryPiID, raspberryPiPW, name, location))\n",
    "conn.commit()\n",
    "\n",
    "sql = \"insert into camera values(%s, %s)\"\n",
    "curs.execute(sql, (cameraID, raspberryPiID))\n",
    "conn.commit()\n",
    "\n",
    "with open(filename, mode = 'w') as f:\n",
    "    f.write(raspberryPiID + ' ' + cameraID)\n",
    "    \n",
    "with open(filename, mode = 'r') as f:\n",
    "    print(f.read())\n",
    "conn.close()"
   ]
  },
  {
   "cell_type": "code",
   "execution_count": 7,
   "metadata": {},
   "outputs": [
    {
     "name": "stdout",
     "output_type": "stream",
     "text": [
      "2020_4_21_13_33_45\n"
     ]
    }
   ],
   "source": [
    "import pymysql\n",
    "\n",
    "conn = pymysql.connect(host='13.125.102.154', user='hello', password='Csedbadmin!1', db='pytest')\n",
    "curs = conn.cursor()\n",
    "\n",
    "sql = \"select photoID from photo where cameraID=%s\"\n",
    "curs.execute(sql, 'camera1')\n",
    "rows = curs.fetchall()\n",
    "pre = ''\n",
    "if len(rows) != 0:\n",
    "    pre = rows[0][0];       \n",
    "    pre_split = pre.split('_')            \n",
    "    for row in rows :    \n",
    "        row_split = row[0].split('_')\n",
    "        for i in range(0, len(pre_split)) :\n",
    "            if(int(pre_split[i]) < int(row_split[i])) :\n",
    "                pre = row[0]\n",
    "                pre_split = pre.split('_')\n",
    "                break;\n",
    "print(pre)"
   ]
  },
  {
   "cell_type": "code",
   "execution_count": 33,
   "metadata": {},
   "outputs": [
    {
     "name": "stdout",
     "output_type": "stream",
     "text": [
      "()\n",
      "\n"
     ]
    }
   ],
   "source": [
    "import pymysql\n",
    "from datetime import datetime, timedelta\n",
    "\n",
    "conn = pymysql.connect(host='13.125.102.154', user='hello', password='Csedbadmin!1', db='pytest')\n",
    "curs = conn.cursor()\n",
    "\n",
    "sql = \"select photoID from photo where cameraID=%s\"\n",
    "curs.execute(sql, 'camera1')\n",
    "rows = curs.fetchall()\n",
    "print(rows)\n",
    "\n",
    "now = '2020_4_21_14_6_32'\n",
    "now_split = now.split('_')\n",
    "now_time = datetime(int(now_split[0]), int(now_split[1]), int(now_split[2]), int(now_split[3]), int(now_split[4]), int(now_split[5]))\n",
    "    \n",
    "pre = ''\n",
    "if len(rows) != 0:\n",
    "    pre = rows[0][0];       \n",
    "    pre_split = pre.split('_') \n",
    "    pre_time = datetime(int(pre_split[0]), int(pre_split[1]), int(pre_split[2]), int(pre_split[3]), int(pre_split[4]), int(pre_split[5]))\n",
    "    for row in rows :    \n",
    "        row_split = row[0].split('_')\n",
    "        row_time = datetime(int(row_split[0]), int(row_split[1]), int(row_split[2]), int(row_split[3]), int(row_split[4]), int(row_split[5]))\n",
    "        print(pre_time, row_time)\n",
    "        if now_time == row_time:\n",
    "            pass\n",
    "        elif pre_time < row_time :\n",
    "            pre = row[0]\n",
    "            pre_split = pre.split('_')\n",
    "            pre_time = datetime(int(pre_split[0]), int(pre_split[1]), int(pre_split[2]), int(pre_split[3]), int(pre_split[4]), int(pre_split[5]))\n",
    "print(pre)\n",
    "conn.close()"
   ]
  },
  {
   "cell_type": "code",
   "execution_count": null,
   "metadata": {},
   "outputs": [],
   "source": []
  }
 ],
 "metadata": {
  "kernelspec": {
   "display_name": "Python 3",
   "language": "python",
   "name": "python3"
  },
  "language_info": {
   "codemirror_mode": {
    "name": "ipython",
    "version": 3
   },
   "file_extension": ".py",
   "mimetype": "text/x-python",
   "name": "python",
   "nbconvert_exporter": "python",
   "pygments_lexer": "ipython3",
   "version": "3.7.6"
  }
 },
 "nbformat": 4,
 "nbformat_minor": 2
}
